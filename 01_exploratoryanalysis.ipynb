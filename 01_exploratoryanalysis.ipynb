{
  "nbformat": 4,
  "nbformat_minor": 0,
  "metadata": {
    "colab": {
      "provenance": [],
      "authorship_tag": "ABX9TyPyjVsODgXX4w9ydqNStIg3",
      "include_colab_link": true
    },
    "kernelspec": {
      "name": "python3",
      "display_name": "Python 3"
    },
    "language_info": {
      "name": "python"
    }
  },
  "cells": [
    {
      "cell_type": "markdown",
      "metadata": {
        "id": "view-in-github",
        "colab_type": "text"
      },
      "source": [
        "<a href=\"https://colab.research.google.com/github/edupires89/datascience/blob/main/01_exploratoryanalysis.ipynb\" target=\"_parent\"><img src=\"https://colab.research.google.com/assets/colab-badge.svg\" alt=\"Open In Colab\"/></a>"
      ]
    },
    {
      "cell_type": "markdown",
      "source": [
        "# Exploratory Analysis\n",
        "\n",
        "In this notebook I'll explain how I do data analysis in different datasets.\n",
        "\n",
        "By: Eduardo Conde Pires\n",
        "\n"
      ],
      "metadata": {
        "id": "0WVnlBb1TfsG"
      }
    },
    {
      "cell_type": "markdown",
      "source": [
        "## Importing libraries\n",
        "\n",
        "In this section I'll show you how and what different python libraries I use to start the exploratory analysis work."
      ],
      "metadata": {
        "id": "Ecpnw53oVTo8"
      }
    },
    {
      "cell_type": "code",
      "execution_count": 2,
      "metadata": {
        "id": "P0B_4N8rTUjb"
      },
      "outputs": [],
      "source": [
        "import numpy as np # NumPy is the fundamental package for scientific computing with Python\n",
        "import pandas as pd # Pandas is a fast, powerful, flexible and easy to use open source data analysis and manipulation tool\n",
        "import matplotlib.pyplot as plt # Matplotlib is a comprehensive library for creating static, animated, and interactive visualizations in Python"
      ]
    }
  ]
}