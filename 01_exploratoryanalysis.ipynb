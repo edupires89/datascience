{
  "nbformat": 4,
  "nbformat_minor": 0,
  "metadata": {
    "colab": {
      "provenance": [],
      "authorship_tag": "ABX9TyOdP2tWQDaPh+n75Q5mjldI",
      "include_colab_link": true
    },
    "kernelspec": {
      "name": "python3",
      "display_name": "Python 3"
    },
    "language_info": {
      "name": "python"
    }
  },
  "cells": [
    {
      "cell_type": "markdown",
      "metadata": {
        "id": "view-in-github",
        "colab_type": "text"
      },
      "source": [
        "<a href=\"https://colab.research.google.com/github/edupires89/datascience/blob/main/01_exploratoryanalysis.ipynb\" target=\"_parent\"><img src=\"https://colab.research.google.com/assets/colab-badge.svg\" alt=\"Open In Colab\"/></a>"
      ]
    },
    {
      "cell_type": "markdown",
      "source": [
        "# Exploratory Analysis\n",
        "\n",
        "In this notebook I'll explain how I do data analysis in different datasets.\n",
        "\n",
        "By: Eduardo Conde Pires\n",
        "\n"
      ],
      "metadata": {
        "id": "0WVnlBb1TfsG"
      }
    },
    {
      "cell_type": "markdown",
      "source": [
        "## Importing libraries\n",
        "\n",
        "In this section I'll show you how and what different python libraries I use to start the exploratory analysis work."
      ],
      "metadata": {
        "id": "Ecpnw53oVTo8"
      }
    },
    {
      "cell_type": "code",
      "execution_count": null,
      "metadata": {
        "id": "P0B_4N8rTUjb"
      },
      "outputs": [],
      "source": [
        "import numpy as np # NumPy is the fundamental package for scientific computing with Python\n",
        "import pandas as pd # Pandas is a fast, powerful, flexible and easy to use open source data analysis and manipulation tool\n",
        "import matplotlib.pyplot as plt # Matplotlib is a comprehensive library for creating static, animated, and interactive visualizations in Python"
      ]
    },
    {
      "cell_type": "markdown",
      "source": [
        "## Importing dataset\n",
        "\n",
        "In this section was created to import a dataset that I'll analyze"
      ],
      "metadata": {
        "id": "EXwGcqtXhXJg"
      }
    },
    {
      "cell_type": "code",
      "source": [
        "dataframe = pd.read_csv('datasets/microdados-matriculas.csv', encoding='latin-1', sep=';') #import from CSV file"
      ],
      "metadata": {
        "id": "P9QRvkGAhtWr"
      },
      "execution_count": 15,
      "outputs": []
    },
    {
      "cell_type": "code",
      "source": [
        "dataframe.info() #basic informations about dataset and your data types\n",
        "dataframe.head() #five first tuples of dataset\n",
        "dataframe.size()"
      ],
      "metadata": {
        "id": "dLJqKk33j7ww"
      },
      "execution_count": null,
      "outputs": []
    }
  ]
}