{
  "nbformat": 4,
  "nbformat_minor": 0,
  "metadata": {
    "colab": {
      "provenance": [],
      "authorship_tag": "ABX9TyNmR37NuRsRAda0NWbhEYob",
      "include_colab_link": true
    },
    "kernelspec": {
      "name": "python3",
      "display_name": "Python 3"
    },
    "language_info": {
      "name": "python"
    }
  },
  "cells": [
    {
      "cell_type": "markdown",
      "metadata": {
        "id": "view-in-github",
        "colab_type": "text"
      },
      "source": [
        "<a href=\"https://colab.research.google.com/github/edupires89/datascience/blob/main/01_exploratoryanalysis.ipynb\" target=\"_parent\"><img src=\"https://colab.research.google.com/assets/colab-badge.svg\" alt=\"Open In Colab\"/></a>"
      ]
    },
    {
      "cell_type": "markdown",
      "source": [
        "# Exploratory Analysis\n",
        "\n",
        "In this notebook I'll explain how I do data analysis in different datasets.\n",
        "\n",
        "By: Eduardo Conde Pires\n",
        "\n"
      ],
      "metadata": {
        "id": "0WVnlBb1TfsG"
      }
    },
    {
      "cell_type": "markdown",
      "source": [
        "## Importing libraries\n",
        "\n",
        "In this section I'll show you how and what different python libraries I use to start the exploratory analysis work."
      ],
      "metadata": {
        "id": "Ecpnw53oVTo8"
      }
    },
    {
      "cell_type": "code",
      "execution_count": null,
      "metadata": {
        "id": "P0B_4N8rTUjb"
      },
      "outputs": [],
      "source": [
        "import pandas as pd\n",
        "import "
      ]
    }
  ]
}